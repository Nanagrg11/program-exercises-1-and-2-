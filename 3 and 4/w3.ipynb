{
 "cells": [
  {
   "cell_type": "code",
   "execution_count": 1,
   "metadata": {},
   "outputs": [
    {
     "name": "stdout",
     "output_type": "stream",
     "text": [
      "hello,Nana\n"
     ]
    }
   ],
   "source": [
    "#question1\n",
    "name = input(\"enter your name:\")\n",
    "name = name.title()\n",
    "\n",
    "if not name:\n",
    "    print(\"hello,starnger\")\n",
    "else:\n",
    "    print(f\"hello,{name}\")"
   ]
  },
  {
   "cell_type": "code",
   "execution_count": null,
   "metadata": {},
   "outputs": [
    {
     "name": "stdout",
     "output_type": "stream",
     "text": [
      "Password set\n"
     ]
    }
   ],
   "source": [
    "#question2\n",
    "password = input(\"enter password:\")\n",
    "password_2= input(\"re-enter password:\")\n",
    "\n",
    "if password == password_2:\n",
    "    print(\"Password set\")\n",
    "else:\n",
    "    print(\"Password do not match.\")"
   ]
  },
  {
   "cell_type": "code",
   "execution_count": null,
   "metadata": {},
   "outputs": [
    {
     "name": "stdout",
     "output_type": "stream",
     "text": [
      "Password must be between 8 and 12 characters long.\n"
     ]
    }
   ],
   "source": [
    "#question3\n",
    "mininum = 8\n",
    "maxinum = 12\n",
    "\n",
    "password = input(\"Enter password: \")\n",
    "\n",
    "if mininum <= len(password) <= maxinum:\n",
    "    password_2 = input(\"Re-enter password: \")\n",
    "\n",
    "    if password == password_2:\n",
    "        print(\"Password set\")\n",
    "    else:\n",
    "        print(\"Passwords do not match.\")\n",
    "else:\n",
    "    print(f\"Password must be between {mininum} and {maxinum} characters long.\")\n"
   ]
  },
  {
   "cell_type": "code",
   "execution_count": null,
   "metadata": {},
   "outputs": [
    {
     "name": "stdout",
     "output_type": "stream",
     "text": [
      "Common password. Please choose a different one.\n"
     ]
    }
   ],
   "source": [
    "#question4\n",
    "BAD_PASSWORDS = ['password', 'letmein', 'sesame', 'hello', 'justinbieber']\n",
    "\n",
    "password = input(\"Enter password: \")\n",
    "password_2 = input(\"Re-enter password: \")\n",
    "\n",
    "if password == password_2:\n",
    "    if password not in BAD_PASSWORDS:\n",
    "        print(\"Password set\")\n",
    "    else:\n",
    "        print(\"Common password. Please choose a different one.\")\n",
    "else:\n",
    "    print(\"Passwords do not match.\")"
   ]
  },
  {
   "cell_type": "code",
   "execution_count": null,
   "metadata": {},
   "outputs": [],
   "source": [
    "#question5\n",
    "BAD_PASSWORDS = ['password', 'letmein', 'sesame', 'hello', 'justinbieber']\n",
    "\n",
    "while True:\n",
    "    password = input(\"Enter password: \")\n",
    "    password_2 = input(\"Re-enter password: \")\n",
    "\n",
    "    if password == password_2:\n",
    "        if len(password) >= 8 and len(password) <= 12:\n",
    "            if password not in BAD_PASSWORDS:\n",
    "                print(\"Password set\")\n",
    "                break  # Break out of the loop if the password is set successfully\n",
    "            else:\n",
    "                print(\"Common password. Please choose a different one.\")\n",
    "        else:\n",
    "            print(\"Password must be between 8 and 12 characters long. Please try again.\")\n",
    "    else:\n",
    "        print(\"Passwords do not match. Please try again.\")"
   ]
  },
  {
   "cell_type": "code",
   "execution_count": null,
   "metadata": {},
   "outputs": [
    {
     "name": "stdout",
     "output_type": "stream",
     "text": [
      "0 x 7 = 0\n",
      "1 x 7 = 7\n",
      "2 x 7 = 14\n",
      "3 x 7 = 21\n",
      "4 x 7 = 28\n",
      "5 x 7 = 35\n",
      "6 x 7 = 42\n",
      "7 x 7 = 49\n",
      "8 x 7 = 56\n",
      "9 x 7 = 63\n",
      "10 x 7 = 70\n",
      "11 x 7 = 77\n",
      "12 x 7 = 84\n"
     ]
    }
   ],
   "source": [
    "#question6\n",
    "for i in range(13):\n",
    "    result = i * 7\n",
    "    print(f\"{i} x 7 = {result}\")"
   ]
  },
  {
   "cell_type": "code",
   "execution_count": null,
   "metadata": {},
   "outputs": [
    {
     "name": "stdout",
     "output_type": "stream",
     "text": [
      "0 x 12 = 0\n",
      "1 x 12 = 12\n",
      "2 x 12 = 24\n",
      "3 x 12 = 36\n",
      "4 x 12 = 48\n",
      "5 x 12 = 60\n",
      "6 x 12 = 72\n",
      "7 x 12 = 84\n",
      "8 x 12 = 96\n",
      "9 x 12 = 108\n",
      "10 x 12 = 120\n",
      "11 x 12 = 132\n",
      "12 x 12 = 144\n"
     ]
    }
   ],
   "source": [
    "#question7\n",
    "table_number = int(input(\"Enter the number for the times table (0 to 12): \"))\n",
    "\n",
    "if 0 <= table_number <= 12:\n",
    "    for i in range(13):\n",
    "        result = i * table_number\n",
    "        print(f\"{i} x {table_number} = {result}\")\n",
    "else:\n",
    "    print(\"Invalid input. Please enter a number between 0 and 12.\")"
   ]
  },
  {
   "cell_type": "code",
   "execution_count": null,
   "metadata": {},
   "outputs": [
    {
     "name": "stdout",
     "output_type": "stream",
     "text": [
      "0 x 14 = 0\n",
      "1 x 14 = 14\n",
      "2 x 14 = 28\n",
      "3 x 14 = 42\n",
      "4 x 14 = 56\n",
      "5 x 14 = 70\n",
      "6 x 14 = 84\n",
      "7 x 14 = 98\n",
      "8 x 14 = 112\n",
      "9 x 14 = 126\n",
      "10 x 14 = 140\n",
      "11 x 14 = 154\n",
      "12 x 14 = 168\n"
     ]
    }
   ],
   "source": [
    "#question8\n",
    "table_number = int(input(\"Enter the number for the times table: \"))\n",
    "\n",
    "if table_number >= 0:\n",
    "    for i in range(13):\n",
    "        result = i * table_number\n",
    "        print(f\"{i} x {table_number} = {result}\")\n",
    "else:\n",
    "    for i in range(12, -1, -1):\n",
    "        result = i * (-table_number)\n",
    "        print(f\"{i} x {-table_number} = {result}\")"
   ]
  },
  {
   "cell_type": "markdown",
   "metadata": {},
   "source": [
    "Control Statements\n",
    "Exercises\n",
    "Week 3"
   ]
  },
  {
   "cell_type": "markdown",
   "metadata": {},
   "source": [
    "1.What is the data-type of the result when evaluating comparison (relational) expressions such\n",
    "as < and >?\n",
    "Answer: The result of evaluating comparison (relational) expressions such as < and > is a boolean data type (bool), which can be either True or False."
   ]
  },
  {
   "cell_type": "markdown",
   "metadata": {},
   "source": [
    "2.For each of the following expressions write the result of their evaluation.\n",
    "a) 100 < 101: Answer: True\n",
    "b) 100 > 99: Answer: True\n",
    "c) 100 >= 100: Answer: True\n",
    "d) 100 != 100: Answer: False"
   ]
  },
  {
   "cell_type": "markdown",
   "metadata": {},
   "source": [
    "3. For each of the following expressions write the result of their evaluation.\n",
    "\n",
    "a) \"abc\" < \"xyz\": Answer: True\n",
    "b) \"abc\" < \"XYZ\": Answer: False\n",
    "c) \"100\" == 100: Answer: False"
   ]
  },
  {
   "cell_type": "markdown",
   "metadata": {},
   "source": [
    "4. For each of the following expressions write the result of their evaluation.\n",
    "\n",
    "a) 10 > 20 and 10 >= 10: Answer: False\n",
    "b) 10 > 30 > 20: Answer: False\n",
    "c) 40 < 20 or 20 < 30: Answer: True\n",
    "d) not True: Answer: False"
   ]
  },
  {
   "cell_type": "markdown",
   "metadata": {},
   "source": [
    "5. What would be the output shown following the execution of the following Python statements?\n",
    "colours = [ \"Blue\", \"Black\", \"Orange\" ]\n",
    "print(\"The colour black is in the list : \", \"Black\" in colours)\n",
    "\n",
    "Answer: The colour black is in the list : True  \n",
    "\n",
    "print(\"The colour orange is in the list : \", \"orange\" in colours)\n",
    "\n",
    "Answer: The colour orange is in the list : False"
   ]
  },
  {
   "cell_type": "markdown",
   "metadata": {},
   "source": [
    "6. Which of the following concepts does the Python ‘if’ statement support? Sequence, Selection, or Iteration?\n",
    "\n",
    "Answer: Selection."
   ]
  },
  {
   "cell_type": "markdown",
   "metadata": {},
   "source": [
    "7. What would be the output shown following the execution of the following Python statements?\n",
    "\n",
    "num1 = 100\n",
    "num2 = 10\n",
    "if num1 % num2 == 0:\n",
    "    print(\"num1 is divisible by num2\")\n",
    "else:\n",
    "    print(\"num1 is not divisible by num2\")\n",
    "\n",
    "    \n",
    "Answer: num1 is divisible by num2"
   ]
  },
  {
   "cell_type": "markdown",
   "metadata": {},
   "source": [
    "8. What would be the output shown following the execution of the following Python statements?\n",
    "num1 = 99\n",
    "num2 = 70\n",
    "if num1 < num2:\n",
    "print(\"num1 is less than num2\")\n",
    "elif num1 > num2:\n",
    "print(\"num1 is greater than num2\")\n",
    "else:\n",
    "print(\"num1 is equal to num2\")\n",
    " \n",
    " Answer: num1 is greater than num2"
   ]
  },
  {
   "cell_type": "markdown",
   "metadata": {},
   "source": [
    "9. What is the name given to the following type of Python operator shown below?\n",
    "lowest = x if x < y else y\n",
    "  \n",
    "  Answer: This is a ternary conditional operator."
   ]
  },
  {
   "cell_type": "markdown",
   "metadata": {},
   "source": [
    "10. And, what value would be assigned to the variable ‘lowest’ when ‘x’ was equal to 10 and\n",
    "‘y’ was equal to 5?\n",
    "  Answer: The value assigned to lowest would be 5."
   ]
  },
  {
   "cell_type": "markdown",
   "metadata": {},
   "source": [
    "11. Within the answer box below write a small Python program, that asks the user to enter a\n",
    "value between 1 and 10.\n",
    "Once the value has been input display a message saying whether the value was in the\n",
    "requested range.\n",
    "Remember: values returned from the input() function are strings, and need converting\n",
    "before being used within expressions, i.e. you will need code such as this -\n",
    "num = input(\"please enter a number between 1 and 10 : \")\n",
    "num = int(num)"
   ]
  },
  {
   "cell_type": "code",
   "execution_count": null,
   "metadata": {},
   "outputs": [
    {
     "name": "stdout",
     "output_type": "stream",
     "text": [
      "The value is outside the requested range.\n"
     ]
    }
   ],
   "source": [
    "#11 answer\n",
    "num = input(\"please enter a number between 1 and 10 : \")\n",
    "num = int(num)\n",
    "\n",
    "if 1 <= num <= 10:\n",
    "    print(\"The value is in the requested range.\")\n",
    "else:\n",
    "    print(\"The value is outside the requested range.\")\n"
   ]
  },
  {
   "cell_type": "markdown",
   "metadata": {},
   "source": [
    "12. Within the answer box below write a small Python program that asks the user to enter two\n",
    "values. Store these in variables called x and y respectively.\n",
    "If the 'x' value is larger than 'y' then print\n",
    "The value 'x' is larger than the value 'y'\n",
    "otherwise print\n",
    "The value 'y' is larger than the value 'x'"
   ]
  },
  {
   "cell_type": "code",
   "execution_count": null,
   "metadata": {},
   "outputs": [
    {
     "name": "stdout",
     "output_type": "stream",
     "text": [
      "The value 7 is larger than the value 6\n"
     ]
    }
   ],
   "source": [
    "#12 answer\n",
    "x = int(input(\"Enter the value for x: \"))\n",
    "y = int(input(\"Enter the value for y: \"))\n",
    "\n",
    "if x > y:\n",
    "    print(f\"The value {x} is larger than the value {y}\")\n",
    "else:\n",
    "    print(f\"The value {y} is larger than the value {x}\")\n"
   ]
  },
  {
   "cell_type": "markdown",
   "metadata": {},
   "source": [
    "13. Examine the output generated by the above program. Is the displayed text entirely accurate\n",
    "in all cases? If not Why?\n",
    "  Answer = The displayed text is accurate, but there's a possibility of confusing output if the values of x and y are equal. The program should include a case for equality to provide a more complete message.\n"
   ]
  },
  {
   "cell_type": "markdown",
   "metadata": {},
   "source": [
    "14.Within the answer box below write a small Python program that asks the user to enter two\n",
    "values.\n",
    "Store these values in two variables then output a message displaying the result of dividing\n",
    "the first value by the second value.\n",
    "Include code that prevents a run-time error being reported when the user inputs a value of '0'\n",
    "for the second input. Hint: use an ‘if’ statement\n",
    "If a '0' value is input, print a message saying \"division by 0 is not possible\""
   ]
  },
  {
   "cell_type": "code",
   "execution_count": 8,
   "metadata": {},
   "outputs": [
    {
     "name": "stdout",
     "output_type": "stream",
     "text": [
      "The value is in the requested range.\n"
     ]
    }
   ],
   "source": [
    "#14 answer\n",
    "num = input(\"please enter a number between 1 and 10 : \")\n",
    "num = int(num)\n",
    "\n",
    "if 1 <= num <= 10:\n",
    "    print(\"The value is in the requested range.\")\n",
    "else:\n",
    "    print(\"The value is outside the requested range.\")\n"
   ]
  },
  {
   "cell_type": "markdown",
   "metadata": {},
   "source": [
    "15. Which of the following concepts does the Python while statement support? Sequence, Selection, or Iteration?\n",
    "\n",
    "Answer: Iteration."
   ]
  },
  {
   "cell_type": "markdown",
   "metadata": {},
   "source": [
    "16. What would be the output shown following the execution of the following Python statements?\n",
    "num = 5\n",
    "while num > 0:\n",
    "print(num)\n",
    "num -= 1\n",
    " answer =                                                               5\n",
    " 4\n",
    " 3\n",
    " 2\n",
    " 1"
   ]
  },
  {
   "cell_type": "markdown",
   "metadata": {},
   "source": [
    "17. Write a small Python program that prints your name to the screen 100 times, then enter the\n",
    "program into the answer box below. Hint: use a ‘while’ loop.\n"
   ]
  },
  {
   "cell_type": "code",
   "execution_count": 10,
   "metadata": {},
   "outputs": [
    {
     "name": "stdout",
     "output_type": "stream",
     "text": [
      "Your Name\n",
      "Your Name\n",
      "Your Name\n",
      "Your Name\n",
      "Your Name\n",
      "Your Name\n",
      "Your Name\n",
      "Your Name\n",
      "Your Name\n",
      "Your Name\n",
      "Your Name\n",
      "Your Name\n",
      "Your Name\n",
      "Your Name\n",
      "Your Name\n",
      "Your Name\n",
      "Your Name\n",
      "Your Name\n",
      "Your Name\n",
      "Your Name\n",
      "Your Name\n",
      "Your Name\n",
      "Your Name\n",
      "Your Name\n",
      "Your Name\n",
      "Your Name\n",
      "Your Name\n",
      "Your Name\n",
      "Your Name\n",
      "Your Name\n",
      "Your Name\n",
      "Your Name\n",
      "Your Name\n",
      "Your Name\n",
      "Your Name\n",
      "Your Name\n",
      "Your Name\n",
      "Your Name\n",
      "Your Name\n",
      "Your Name\n",
      "Your Name\n",
      "Your Name\n",
      "Your Name\n",
      "Your Name\n",
      "Your Name\n",
      "Your Name\n",
      "Your Name\n",
      "Your Name\n",
      "Your Name\n",
      "Your Name\n",
      "Your Name\n",
      "Your Name\n",
      "Your Name\n",
      "Your Name\n",
      "Your Name\n",
      "Your Name\n",
      "Your Name\n",
      "Your Name\n",
      "Your Name\n",
      "Your Name\n",
      "Your Name\n",
      "Your Name\n",
      "Your Name\n",
      "Your Name\n",
      "Your Name\n",
      "Your Name\n",
      "Your Name\n",
      "Your Name\n",
      "Your Name\n",
      "Your Name\n",
      "Your Name\n",
      "Your Name\n",
      "Your Name\n",
      "Your Name\n",
      "Your Name\n",
      "Your Name\n",
      "Your Name\n",
      "Your Name\n",
      "Your Name\n",
      "Your Name\n",
      "Your Name\n",
      "Your Name\n",
      "Your Name\n",
      "Your Name\n",
      "Your Name\n",
      "Your Name\n",
      "Your Name\n",
      "Your Name\n",
      "Your Name\n",
      "Your Name\n",
      "Your Name\n",
      "Your Name\n",
      "Your Name\n",
      "Your Name\n",
      "Your Name\n",
      "Your Name\n",
      "Your Name\n",
      "Your Name\n",
      "Your Name\n",
      "Your Name\n"
     ]
    }
   ],
   "source": [
    "#17 answer\n",
    "count = 0\n",
    "while count < 100:\n",
    "    print(\"Your Name\")\n",
    "    count += 1\n"
   ]
  },
  {
   "cell_type": "markdown",
   "metadata": {},
   "source": [
    "18. What would be the output shown following the execution of the following Python statements?\n",
    "vals = [\"A\", \"B\", \"C\", \"D\"]\n",
    "for letter in vals:\n",
    "print(letter)\n",
    "\n",
    "answer \n",
    "A\n",
    "B\n",
    "C\n",
    "D"
   ]
  },
  {
   "cell_type": "markdown",
   "metadata": {},
   "source": [
    "19. What would be the output shown following the execution of each of the following Python\n",
    "statements?\n",
    "for num in range(5):\n",
    "print(num)\n",
    " answer= \n",
    "0\n",
    "1\n",
    "2\n",
    "3\n",
    "4\n",
    "  \n",
    "for num in range(10,16):\n",
    "print(num)\n",
    "answer=\n",
    "\n",
    "10\n",
    "11\n",
    "12\n",
    "13\n",
    "14\n",
    "15\n",
    "\n",
    "for num in range(0,10,-1):\n",
    "print(num)\n",
    " answer  = (no output, as the range doesn't cover any values in the specified direction)\n",
    "  \n",
    "\n",
    "   Enter and execute the python code shown below, then show the exact output into the answer box.\n",
    "\n"
   ]
  },
  {
   "cell_type": "code",
   "execution_count": 12,
   "metadata": {},
   "outputs": [
    {
     "name": "stdout",
     "output_type": "stream",
     "text": [
      "*\n",
      "*\n",
      "*\n",
      "*\n",
      "*\n",
      "*\n",
      "*\n",
      "*\n",
      "*\n",
      "*\n",
      "*\n",
      "*\n",
      "*\n",
      "*\n",
      "*\n",
      "*\n",
      "*\n",
      "*\n",
      "*\n",
      "*\n",
      "*\n",
      "*\n",
      "*\n",
      "*\n",
      "*\n",
      "*\n",
      "*\n",
      "*\n",
      "*\n",
      "*\n",
      "*\n",
      "*\n",
      "*\n",
      "*\n",
      "*\n",
      "*\n",
      "\n"
     ]
    }
   ],
   "source": [
    "\n",
    "for x in range(1, 10):\n",
    "    for y in range(1, x):\n",
    "        print(\"*\")\n",
    "print()\n"
   ]
  },
  {
   "cell_type": "markdown",
   "metadata": {},
   "source": [
    "20. What is the term used to refer to code blocks that appear inside other code blocks as in the\n",
    "above program?\n",
    " Answer = \"nested code blocks\" or \"nested loops.\""
   ]
  },
  {
   "cell_type": "markdown",
   "metadata": {},
   "source": []
  }
 ],
 "metadata": {
  "kernelspec": {
   "display_name": "Python 3",
   "language": "python",
   "name": "python3"
  },
  "language_info": {
   "codemirror_mode": {
    "name": "ipython",
    "version": 3
   },
   "file_extension": ".py",
   "mimetype": "text/x-python",
   "name": "python",
   "nbconvert_exporter": "python",
   "pygments_lexer": "ipython3",
   "version": "3.12.0"
  }
 },
 "nbformat": 4,
 "nbformat_minor": 2
}
