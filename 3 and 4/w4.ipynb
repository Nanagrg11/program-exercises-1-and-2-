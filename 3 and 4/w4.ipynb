{
 "cells": [
  {
   "cell_type": "code",
   "execution_count": 3,
   "metadata": {},
   "outputs": [
    {
     "name": "stdout",
     "output_type": "stream",
     "text": [
      "The entered number is outside the range 0 to 100.\n"
     ]
    }
   ],
   "source": [
    "#question1\n",
    "def is_in_range(number):\n",
    "    return 0 <= number <= 100\n",
    "\n",
    "# Test the function\n",
    "user_input = int(input(\"Enter an integer: \"))\n",
    "\n",
    "if is_in_range(user_input):\n",
    "    print(\"The entered number is in the range 0 to 100.\")\n",
    "else:\n",
    "    print(\"The entered number is outside the range 0 to 100.\")"
   ]
  },
  {
   "cell_type": "code",
   "execution_count": 6,
   "metadata": {},
   "outputs": [
    {
     "name": "stdout",
     "output_type": "stream",
     "text": [
      "Uppercase letters: 0\n",
      "Lowercase letters: 4\n"
     ]
    }
   ],
   "source": [
    "#question2\n",
    "def count_upper_lower(string):\n",
    "    upper_count = 0\n",
    "    lower_count = 0\n",
    "\n",
    "    for char in string:\n",
    "        if char.isupper():\n",
    "            upper_count += 1\n",
    "        elif char.islower():\n",
    "            lower_count += 1\n",
    "\n",
    "    return upper_count, lower_count\n",
    "\n",
    "# Test the function\n",
    "input_string = input(\"Enter a string: \")\n",
    "upper, lower = count_upper_lower(input_string)\n",
    "\n",
    "print(f\"Uppercase letters: {upper}\")\n",
    "print(f\"Lowercase letters: {lower}\")"
   ]
  },
  {
   "cell_type": "code",
   "execution_count": 7,
   "metadata": {},
   "outputs": [
    {
     "name": "stdout",
     "output_type": "stream",
     "text": [
      "Hello, Greeting!\n"
     ]
    }
   ],
   "source": [
    "#question3\n",
    "def format_name(name):\n",
    "    return name.capitalize()\n",
    "\n",
    "# Test the function\n",
    "user_input = input(\"Enter your name: \")\n",
    "formatted_name = format_name(user_input)\n",
    "\n",
    "print(f\"Hello, {formatted_name}!\")"
   ]
  },
  {
   "cell_type": "code",
   "execution_count": 8,
   "metadata": {},
   "outputs": [
    {
     "name": "stdout",
     "output_type": "stream",
     "text": [
      "Original string: nananAAA\n",
      "String with the last character removed: nananAA\n"
     ]
    }
   ],
   "source": [
    "#question4\n",
    "def remove_last_character(input_string):\n",
    "    if len(input_string) <= 1:\n",
    "        return input_string\n",
    "    else:\n",
    "        return input_string[:-1]\n",
    "\n",
    "# Test the function\n",
    "user_input = input(\"Enter a string: \")\n",
    "result = remove_last_character(user_input)\n",
    "\n",
    "print(f\"Original string: {user_input}\")\n",
    "print(f\"String with the last character removed: {result}\")\n",
    "\n"
   ]
  },
  {
   "cell_type": "code",
   "execution_count": 9,
   "metadata": {},
   "outputs": [
    {
     "name": "stdout",
     "output_type": "stream",
     "text": [
      "55.0 degrees Celsius is 131.00 degrees Fahrenheit.\n",
      "66.0 degrees Fahrenheit is 18.89 degrees Celsius.\n"
     ]
    }
   ],
   "source": [
    "#question5\n",
    "def cels_to_fehr(celsius):\n",
    "    return (celsius * 9/5) + 32\n",
    "\n",
    "def fehr_to_cels(fahrenheit):\n",
    "    return (fahrenheit - 32) * 5/9\n",
    "\n",
    "celsius_temperature = float(input(\"Enter temperature in Celsius: \"))\n",
    "fahrenheit_result = cels_to_fehr(celsius_temperature)\n",
    "print(f\"{celsius_temperature} degrees Celsius is {fahrenheit_result:.2f} degrees Fahrenheit.\")\n",
    "\n",
    "fahrenheit_temperature = float(input(\"Enter temperature in Fahrenheit: \"))\n",
    "celsius_result = fehr_to_cels(fahrenheit_temperature)\n",
    "print(f\"{fahrenheit_temperature} degrees Fahrenheit is {celsius_result:.2f} degrees Celsius.\")\n"
   ]
  },
  {
   "cell_type": "code",
   "execution_count": 1,
   "metadata": {},
   "outputs": [
    {
     "name": "stdout",
     "output_type": "stream",
     "text": [
      "The temperature in Fahrenheit is 41.0F\n"
     ]
    }
   ],
   "source": [
    "#question6\n",
    "\n",
    "user_centi = input(\"enter the centigrate temperature:\")\n",
    "\n",
    "fahrenheit = float(user_centi[ : -1]) * (9/5)+32\n",
    "print(f\"The temperature in Fahrenheit is {fahrenheit}F\")"
   ]
  },
  {
   "cell_type": "code",
   "execution_count": null,
   "metadata": {},
   "outputs": [],
   "source": [
    "#question7\n",
    "from statistics import mean\n",
    "fah_list = []\n",
    "for i in range (0,7):\n",
    "    user_centi = input(\"enter the centigrate temperature:\")\n",
    "    fahrenheit = float(user_centi[ : -1]) * (9/5)+32\n",
    "    fah_list.append(fahrenheit)\n",
    "    \n",
    "maximum = max(fah_list)\n",
    "minimum = min(fah_list)\n",
    "mean_temp = mean(fah_list)\n",
    "\n",
    "print(f\"the maximum,minimum and mean temperature is {maximum},{minimum} and {mean_temp}.\")\n"
   ]
  },
  {
   "cell_type": "code",
   "execution_count": null,
   "metadata": {},
   "outputs": [],
   "source": [
    "#question8\n",
    "\n",
    "from statistics import mean\n",
    "fah_list = []\n",
    "while True:\n",
    "    user_centi = input(\"enter the centigrate temperature:\")\n",
    "    if len(user_centi) == 0:\n",
    "        break\n",
    "    else:\n",
    "        fahrenheit = float(user_centi[ : -1]) * (9/5)+32\n",
    "        fah_list.append(fahrenheit)\n",
    "if len(fah_list) != 0:\n",
    "    maximum = max(fah_list)\n",
    "    minimum = min(fah_list)\n",
    "    mean_temp = mean(fah_list)\n",
    "else:\n",
    "    maximum = 0\n",
    "    minimum = 0\n",
    "    mean_temp = 0\n",
    "\n",
    "print(f\"the maximum,minimum and mean temperature is {maximum},{minimum} and {mean_temp}.\")\n"
   ]
  },
  {
   "cell_type": "markdown",
   "metadata": {},
   "source": [
    "Functions\n",
    "Exercises\n",
    "Week 4\n",
    "\n",
    "\n",
    "1.What must be done before a function that is not built-in to Python can be used in a program?\n",
    "Answer: import from library\n",
    "_________________________________________________________________________\n",
    "2.Given the following import statement, how would a call to the sin() function be made?\n",
    "import math\n",
    "Answer: math.sin()\n",
    "_________________________________________________________________________\n",
    "3.Given the following import statement, how would a call to the sqrt() function be made?\n",
    "from math import sqrt\n",
    "Answer:sqrt()\n",
    "_________________________________________________________________________\n",
    "4.What is the name of the common library that is available with all Python distributions?\n",
    "Answer:pyhton standard library\n",
    "_________________________________________________________________________\n",
    "5.What keyword is used in Python to define a new function?\n",
    "Answer:def\n",
    "_________________________________________________________________________\n",
    "6.Write some Python code that defines a function called print_header(msg). This should\n",
    "output the value provided by the ‘msg’ parameter to the screen (prefixed by five asterisk\n",
    "‘*****’) characters.\n",
    "Answer:\n",
    "_________________________________________________________________________\n",
    "7.In the answer box below give an example of what the docstring may look like for the\n",
    "print_header(msg) function.\n",
    "Answer:\n",
    "_________________________________________________________________________\n",
    "8.Where within a function definition should a docstring appear?\n",
    "Answer: first statement of the function body\n",
    "_________________________________________________________________________\n",
    "9.What statement should appear within a function’s code block to cause a specific value to be\n",
    "passed back to the caller of the function?\n",
    "Answer: return\n",
    "_________________________________________________________________________\n",
    "10.Write some Python code that defines a function called find_min(a,b) that returns the\n",
    "smallest of the two given parameter values.\n",
    "Answer:  (the answer is down below)\n",
    "_________________________________________________________________________\n",
    "11.Given the following function definition, which of the formal parameters could be described as\n",
    "being a default argument?\n",
    "def shouldContinue(prompt, answer=False):\n",
    "# function body...\n",
    "Answer: False\n",
    "\n",
    "12.Provide two example calls to the above function, one which provides a value for the default\n",
    "argument, and one that does not.\n",
    "Answer: shouldcountinue(\"hello\",answer = \"true\")/defualt argument/\n",
    "shouldCountiue(\"hello\") /without defualt argument/_________________________________________________________________\n",
    "13.State why following function definition would not be allowed.\n",
    "def do_something(prefix=\"Message\", prompt, answer=False):\n",
    "# function body...\n",
    "Answer: keyword arguments must follow positional arguments\n",
    "_________________________________________________________________________\n",
    "14.What single character is placed directly before the name of a formal parameter, to indicate\n",
    "that a variable number of actual parameters can be passed when the function is called?\n",
    "Answer: *\n",
    "_________________________________________________________________________\n",
    "15.What commonly used built-in function, which displays output on the screen, can take a\n",
    "variable number of arguments?\n",
    "Answer:print()\n",
    "_________________________________________________________________________\n",
    "16.Is it valid for a function’s parameter name to be prefixed by two asterisk characters ‘**’ as\n",
    "shown below?\n",
    "def send_output(**details):\n",
    "# function body...\n",
    "Answer:\n",
    "17.If present, what does this prefix indicate?\n",
    "Answer: yes(arbitary keyword arguments)\n",
    "_________________________________________________________________________\n",
    "17.What is the name given to a small ‘anonymous’ function that must be defined using a single\n",
    "expression?\n",
    "Answer: lambda\n"
   ]
  },
  {
   "cell_type": "code",
   "execution_count": 2,
   "metadata": {},
   "outputs": [
    {
     "name": "stdout",
     "output_type": "stream",
     "text": [
      "8\n"
     ]
    }
   ],
   "source": [
    "#18 Give an example of such a function that calculates the cube of a given number (i.e. the value\n",
    "#of the number raised to the power of three) \n",
    "\n",
    "def cube_num(a):\n",
    "    return a ** 3\n",
    "\n",
    "cube = cube_num(2)\n",
    "print(cube)\n"
   ]
  },
  {
   "cell_type": "code",
   "execution_count": 3,
   "metadata": {},
   "outputs": [
    {
     "name": "stdout",
     "output_type": "stream",
     "text": [
      "1\n"
     ]
    }
   ],
   "source": [
    "#10.Write some Python code that defines a function called find_min(a,b) that returns the\n",
    "#smallest of the two given parameter values.\n",
    "\n",
    "def find_min(x,y):\n",
    "    return min(x,y)\n",
    "\n",
    "minimum = find_min(1,2)\n",
    "print(minimum)"
   ]
  }
 ],
 "metadata": {
  "kernelspec": {
   "display_name": "Python 3",
   "language": "python",
   "name": "python3"
  },
  "language_info": {
   "codemirror_mode": {
    "name": "ipython",
    "version": 3
   },
   "file_extension": ".py",
   "mimetype": "text/x-python",
   "name": "python",
   "nbconvert_exporter": "python",
   "pygments_lexer": "ipython3",
   "version": "3.12.0"
  }
 },
 "nbformat": 4,
 "nbformat_minor": 2
}
