{
 "cells": [
  {
   "cell_type": "code",
   "execution_count": 16,
   "metadata": {},
   "outputs": [
    {
     "name": "stdout",
     "output_type": "stream",
     "text": [
      "HELLO WORLD\n"
     ]
    }
   ],
   "source": [
    "#QUESTION1\n",
    "print(\"HELLO WORLD\")"
   ]
  },
  {
   "cell_type": "code",
   "execution_count": 17,
   "metadata": {},
   "outputs": [
    {
     "name": "stdout",
     "output_type": "stream",
     "text": [
      "HELLO,Namkha\n"
     ]
    }
   ],
   "source": [
    "#QUESTION2\n",
    "my_name = \"Namkha\"\n",
    "print(f\"HELLO,{my_name}\")\n"
   ]
  },
  {
   "cell_type": "code",
   "execution_count": 18,
   "metadata": {},
   "outputs": [
    {
     "name": "stdout",
     "output_type": "stream",
     "text": [
      "the temperature in fahrenheit is 101.12\n"
     ]
    }
   ],
   "source": [
    "#question3\n",
    "temperature = 38.4\n",
    "fahrenheit = temperature*(9/5)+32\n",
    "print (\"the temperature in fahrenheit is\",fahrenheit)"
   ]
  },
  {
   "cell_type": "code",
   "execution_count": 22,
   "metadata": {},
   "outputs": [
    {
     "name": "stdout",
     "output_type": "stream",
     "text": [
      "the boycotts had an average 56.83802816901409runs in 609 matches\n"
     ]
    }
   ],
   "source": [
    "#question4\n",
    "matches = 609\n",
    "batted = 1014\n",
    "not_out = 162\n",
    "runs = 48426\n",
    "\n",
    "inning= batted- not_out\n",
    "average= runs/inning \n",
    "print(f\"the boycotts had an average {average}runs in {matches} matches\")"
   ]
  },
  {
   "cell_type": "code",
   "execution_count": 23,
   "metadata": {},
   "outputs": [
    {
     "name": "stdout",
     "output_type": "stream",
     "text": [
      "total_group is 11 and the leftover group is 36\n"
     ]
    }
   ],
   "source": [
    "#question5\n",
    "lap_group = 24\n",
    " \n",
    "stu_1 =113\n",
    "stu_2 = 175\n",
    "stu_3 = 12\n",
    "\n",
    "group_1 = stu_1 // lap_group\n",
    "group_2 = stu_2 // lap_group\n",
    "group_3 = stu_3 // lap_group\n",
    "total_group= group_1+group_2+group_3\n",
    "\n",
    "over_1= stu_1 % lap_group\n",
    "over_2= stu_2 % lap_group\n",
    "over_3= stu_3 % lap_group\n",
    "over_group= over_1+over_2+over_3\n",
    "\n",
    "print(f\"total_group is {total_group} and the leftover group is {over_group}\")\n"
   ]
  },
  {
   "cell_type": "markdown",
   "metadata": {},
   "source": [
    "Introduction to Programming\n",
    "Exercises\n",
    "Week 1\n",
    "\n",
    "_________________________________________________________________________\n",
    "1.What is the name of the programming language that we will be using on this module? What\n",
    "version of the language are we using?\n",
    "Answer:python\n",
    "_____________________________________________________________________\n",
    "2.A computer program takes some input, performs some processing then…. what?\n",
    "Answer:produces output\n",
    "_________________________________________________________________________\n",
    "3.What generation of programming language is machine code?\n",
    "Answer:first generation\n",
    "_________________________________________________________________________\n",
    "4.Which of the following is known as a second generation programming language?\n",
    "● C++\n",
    "● Java\n",
    "● Assembly\n",
    "● R\n",
    "● Python\n",
    "Answer:Assembly\n",
    "_________________________________________________________________________\n",
    "5.State one problem associated with writing code in Assembly Language.\n",
    "Answer: Assembly language is low-level and platform-dependent, making it less portable and harder to maintain than higher-level languages.\n",
    "_________________________________________________________________________\n",
    "6.What generation of programming language is Python?\n",
    "Answer:Python is considered a fourth-generation programming language.\n",
    "_________________________________________________________________________\n",
    "7.What is the purpose of a compiler?\n",
    "Answer:A compiler translates high-level programming code into machine code or an intermediate code, making it executable by a computer.\n",
    "_________________________________________________________________________\n",
    "8.The Python interpreter uses an interaction model called REPL. What does this stand for?\n",
    "Answer:Read-Eval-Print Loop.\n",
    "_________________________________________________________________________\n",
    "9.Is it true that Python development always has to take place using interactive-mode within the\n",
    "Python interpreter?\n",
    "Answer:No, Python development can also be done using scripts and integrated development environments (IDEs)\n",
    "_________________________________________________________________________\n",
    "10.What does the term IDE stand for?\n",
    "Answer: Integrated Development Environment.\n",
    "_________________________________________________________________________\n",
    "11.What is the main reason why programmers use code libraries?\n",
    "Answer:Code libraries provide pre-written, reusable code that helps save time and effort in development.\n",
    "_________________________________________________________________________\n",
    "12.The Python language is often used in the field of data-science. What other language\n",
    "specifically supports data-science?\n",
    "Answer:R\n",
    "_________________________________________________________________________\n",
    "13.An expression within a programming language consists of operands and operators.\n",
    "Given an expression such as: 20 + 10, which part of this is the operator?\n",
    "Answer: +\n",
    "And, which part of this is the operand?\n",
    "Answer: 20 and 10\n",
    "_________________________________________________________________________\n",
    "14.Within Python, what calculation is performed by the ‘*’ operator?\n",
    "Answer:multiplication\n",
    "And, what calculation is performed by the ‘/’ operator?\n",
    "Answer: division\n",
    "And, what calculation is performed by the ‘**’ operator?\n",
    "Answer: exponentiation\n",
    "_________________________________________________________________________\n",
    "15.Using the information about expression evaluation provided in the related tutorial, evaluate\n",
    "each of the following expressions in your head and type the result in the answer boxes\n",
    "below. Remember that an operator precedence is applied, but can be overridden by the use\n",
    "of parentheses.\n",
    "a) 100 + 200 - 50\n",
    "Answer:250\n",
    "b) 10 + 20 * 10\n",
    "Answer:210\n",
    "c) 20 % 3\n",
    "Answer:2\n",
    "d) 20 / (2 * 5)\n",
    "Answer:1.0\n",
    "e) 20 / 2 * 5\n",
    "Answer:50.0\n",
    "f) 10 * 2 + 1 * 3\n",
    "Answer:23\n",
    "g) 5 + 10 ** 2\n",
    "Answer:105\n",
    "h) (10 + 2 / 2) + ((10 * 2) ** 2)\n",
    "Answer:214.0\n",
    "_________________________________________________________________________\n",
    "16.Use the Python interpreter to input and then execute a simple Python expression that adds\n",
    "the three numbers 100.6, 200.72 and 213.3, then write the result in the answer box below.\n",
    "Answer:514.62\n",
    "_________________________________________________________________________\n",
    "17.use the Python interpreter to input and then execute a simple Python expression that\n",
    "multiplies the three numbers 20.25, 100 and 23.9, then write the result in the answer box\n",
    "below.\n",
    "Answer:48390.0\n",
    "_________________________________________________________________________\n",
    "18.Use the Python interpreter to input and then execute a simple Python expression that divides\n",
    "the number 10 by 0, then write the result in the answer box below.\n",
    "Answer:This will result in a ZeroDivisionError\n",
    "_________________________________________________________________________\n",
    "19.What type of error is typically easier to identify? A syntax error? Or a logical error?\n",
    "Answer: Syntax errors are typically easier to identify.\n",
    "_________________________________________________________________________\n",
    "20.What type of message is used by the Python interpreter to report run-time errors?\n",
    "Answer:Exception or Error message.\n",
    "_________________________________________________________________________\n",
    "21.What command can be used to exit the Python interpreter?\n",
    "Answer:'exit()' or 'quit()' command"
   ]
  }
 ],
 "metadata": {
  "kernelspec": {
   "display_name": "Python 3",
   "language": "python",
   "name": "python3"
  },
  "language_info": {
   "codemirror_mode": {
    "name": "ipython",
    "version": 3
   },
   "file_extension": ".py",
   "mimetype": "text/x-python",
   "name": "python",
   "nbconvert_exporter": "python",
   "pygments_lexer": "ipython3",
   "version": "3.12.0"
  }
 },
 "nbformat": 4,
 "nbformat_minor": 2
}
